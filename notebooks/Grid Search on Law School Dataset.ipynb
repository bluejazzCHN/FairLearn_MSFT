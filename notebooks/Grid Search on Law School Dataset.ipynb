{
 "cells": [
  {
   "cell_type": "code",
   "execution_count": null,
   "metadata": {},
   "outputs": [],
   "source": [
    "from fairlearn.reductions import GridSearch\n",
    "from fairlearn.reductions import DemographicParity\n",
    "\n",
    "import numpy as np\n",
    "import pandas as pd\n",
    "\n",
    "from sklearn.linear_model import LogisticRegression\n",
    "\n",
    "from tempeh.configurations import datasets\n",
    "dataset = datasets['lawschool_passbar']()"
   ]
  },
  {
   "cell_type": "code",
   "execution_count": null,
   "metadata": {},
   "outputs": [],
   "source": [
    "unmitigated_predictor = LogisticRegression(solver='liblinear', fit_intercept=True)\n",
    "\n",
    "dataset.y_train = dataset.y_train.transpose().squeeze()\n",
    "\n",
    "unmitigated_predictor.fit(dataset.X_train, dataset.y_train)"
   ]
  },
  {
   "cell_type": "code",
   "execution_count": null,
   "metadata": {},
   "outputs": [],
   "source": [
    "import matplotlib.pyplot as plt\n",
    "from fairlearn.metrics import group_zero_one_loss, group_mean_prediction"
   ]
  },
  {
   "cell_type": "code",
   "execution_count": null,
   "metadata": {},
   "outputs": [],
   "source": [
    "y_pred_unmitigated = unmitigated_predictor.predict(dataset.X_test)\n",
    "\n",
    "unmitigated_error = group_zero_one_loss(dataset.y_test, y_pred_unmitigated, dataset.race_test)\n",
    "print(unmitigated_error.overall, unmitigated_error.by_group['white'], unmitigated_error.by_group['black'])\n",
    "\n",
    "unmitigated_mean_prediction = group_mean_prediction(dataset.y_test, y_pred_unmitigated, dataset.race_test)\n",
    "print(\"disparity\", unmitigated_mean_prediction.range)"
   ]
  },
  {
   "cell_type": "code",
   "execution_count": null,
   "metadata": {},
   "outputs": [],
   "source": []
  },
  {
   "cell_type": "code",
   "execution_count": null,
   "metadata": {},
   "outputs": [],
   "source": [
    "n_sweep = 9\n",
    "sweep = GridSearch(LogisticRegression(solver='liblinear', fit_intercept=True),\n",
    "                   constraints=DemographicParity(),\n",
    "                   grid_size=n_sweep)\n",
    "\n",
    "sweep.fit(dataset.X_train, dataset.y_train, sensitive_features=dataset.race_train)\n",
    "\n",
    "print(sweep.best_result.lambda_vec)"
   ]
  },
  {
   "cell_type": "code",
   "execution_count": null,
   "metadata": {},
   "outputs": [],
   "source": [
    "lambda_vec_best = sweep.best_result.lambda_vec\n",
    "lambda_best = lambda_vec_best[(\"+\", \"all\", \"white\")] - lambda_vec_best[(\"-\", \"all\", \"white\")]\n",
    "print(\"lambda_best =\", lambda_best)"
   ]
  },
  {
   "cell_type": "code",
   "execution_count": null,
   "metadata": {},
   "outputs": [],
   "source": [
    "n_second_sweep = 51\n",
    "second_sweep_multipliers = np.linspace(lambda_best-0.5, lambda_best+0.5, n_second_sweep)\n",
    "\n",
    "iterables = [['+','-'], ['all'], ['black', 'white']]\n",
    "midx = pd.MultiIndex.from_product(iterables, names=['sign', 'event', 'group_id'])\n",
    "\n",
    "second_sweep_lambdas = []\n",
    "for l in second_sweep_multipliers:\n",
    "    nxt = pd.Series(np.zeros(4), index=midx)\n",
    "    if l < 0:\n",
    "        nxt[(\"-\", \"all\", \"white\")] = abs(l)\n",
    "    else:\n",
    "        nxt[(\"+\", \"all\", \"white\")] = l\n",
    "    second_sweep_lambdas.append(nxt)\n",
    "    \n",
    "multiplier_df = pd.concat(second_sweep_lambdas, axis=1)"
   ]
  },
  {
   "cell_type": "code",
   "execution_count": null,
   "metadata": {},
   "outputs": [],
   "source": [
    "second_sweep = GridSearch(LogisticRegression(solver='liblinear', fit_intercept=True),\n",
    "                   constraints=DemographicParity(),\n",
    "                   grid=multiplier_df)\n",
    "\n",
    "second_sweep.fit(dataset.X_train, dataset.y_train, sensitive_features=dataset.race_train)"
   ]
  },
  {
   "cell_type": "code",
   "execution_count": null,
   "metadata": {},
   "outputs": [],
   "source": [
    "sweep_error = np.zeros(n_second_sweep)\n",
    "sweep_disparity = np.zeros(n_second_sweep)\n",
    "\n",
    "for i in range(n_second_sweep):\n",
    "    preds = second_sweep.all_results[i].predictor.predict(dataset.X_test)\n",
    "    sweep_error[i] = group_zero_one_loss(dataset.y_test, preds, dataset.race_test).maximum\n",
    "    sweep_disparity[i] = group_mean_prediction(dataset.y_test, preds, dataset.race_test).range\n",
    "    \n",
    "plt.scatter(sweep_error, sweep_disparity)\n",
    "plt.xlabel(\"Error\")\n",
    "plt.ylabel(\"Disparity\")\n",
    "plt.show()"
   ]
  },
  {
   "cell_type": "code",
   "execution_count": null,
   "metadata": {},
   "outputs": [],
   "source": [
    "print(second_sweep.best_result.predictor.coef_)\n",
    "\n",
    "best_preds = second_sweep.predict(dataset.X_test)\n",
    "best_error = group_zero_one_loss(dataset.y_test, best_preds, dataset.race_test).maximum\n",
    "best_disparity = group_mean_prediction(dataset.y_test, best_preds, dataset.race_test).range\n",
    "print(best_error, best_disparity)"
   ]
  },
  {
   "cell_type": "code",
   "execution_count": null,
   "metadata": {},
   "outputs": [],
   "source": [
    "c1 = [x.predictor.coef_[0][0] for x in second_sweep.all_results]\n",
    "c2 = [x.predictor.coef_[0][1] for x in second_sweep.all_results]\n",
    "plt.scatter(c1, c2)\n",
    "plt.show()"
   ]
  },
  {
   "cell_type": "code",
   "execution_count": null,
   "metadata": {},
   "outputs": [],
   "source": []
  }
 ],
 "metadata": {
  "kernelspec": {
   "display_name": "Python 3",
   "language": "python",
   "name": "python3"
  },
  "language_info": {
   "codemirror_mode": {
    "name": "ipython",
    "version": 3
   },
   "file_extension": ".py",
   "mimetype": "text/x-python",
   "name": "python",
   "nbconvert_exporter": "python",
   "pygments_lexer": "ipython3",
   "version": "3.6.9"
  }
 },
 "nbformat": 4,
 "nbformat_minor": 2
}
